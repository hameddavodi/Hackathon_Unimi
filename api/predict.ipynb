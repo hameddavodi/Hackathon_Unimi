{
 "cells": [
  {
   "attachments": {},
   "cell_type": "markdown",
   "id": "b420dc5b",
   "metadata": {},
   "source": [
    "# Local predictions"
   ]
  },
  {
   "cell_type": "code",
   "execution_count": 199,
   "id": "620f109e",
   "metadata": {},
   "outputs": [
    {
     "name": "stdout",
     "output_type": "stream",
     "text": [
      "Checking whether there is an H2O instance running at http://localhost:54321. connected.\n"
     ]
    },
    {
     "data": {
      "text/html": [
       "\n",
       "<style>\n",
       "\n",
       "#h2o-table-6.h2o-container {\n",
       "  overflow-x: auto;\n",
       "}\n",
       "#h2o-table-6 .h2o-table {\n",
       "  /* width: 100%; */\n",
       "  margin-top: 1em;\n",
       "  margin-bottom: 1em;\n",
       "}\n",
       "#h2o-table-6 .h2o-table caption {\n",
       "  white-space: nowrap;\n",
       "  caption-side: top;\n",
       "  text-align: left;\n",
       "  /* margin-left: 1em; */\n",
       "  margin: 0;\n",
       "  font-size: larger;\n",
       "}\n",
       "#h2o-table-6 .h2o-table thead {\n",
       "  white-space: nowrap; \n",
       "  position: sticky;\n",
       "  top: 0;\n",
       "  box-shadow: 0 -1px inset;\n",
       "}\n",
       "#h2o-table-6 .h2o-table tbody {\n",
       "  overflow: auto;\n",
       "}\n",
       "#h2o-table-6 .h2o-table th,\n",
       "#h2o-table-6 .h2o-table td {\n",
       "  text-align: right;\n",
       "  /* border: 1px solid; */\n",
       "}\n",
       "#h2o-table-6 .h2o-table tr:nth-child(even) {\n",
       "  /* background: #F5F5F5 */\n",
       "}\n",
       "\n",
       "</style>      \n",
       "<div id=\"h2o-table-6\" class=\"h2o-container\">\n",
       "  <table class=\"h2o-table\">\n",
       "    <caption></caption>\n",
       "    <thead></thead>\n",
       "    <tbody><tr><td>H2O_cluster_uptime:</td>\n",
       "<td>3 hours 4 mins</td></tr>\n",
       "<tr><td>H2O_cluster_timezone:</td>\n",
       "<td>Europe/Rome</td></tr>\n",
       "<tr><td>H2O_data_parsing_timezone:</td>\n",
       "<td>UTC</td></tr>\n",
       "<tr><td>H2O_cluster_version:</td>\n",
       "<td>3.40.0.4</td></tr>\n",
       "<tr><td>H2O_cluster_version_age:</td>\n",
       "<td>23 days</td></tr>\n",
       "<tr><td>H2O_cluster_name:</td>\n",
       "<td>H2O_from_python_hamed_iuypww</td></tr>\n",
       "<tr><td>H2O_cluster_total_nodes:</td>\n",
       "<td>1</td></tr>\n",
       "<tr><td>H2O_cluster_free_memory:</td>\n",
       "<td>1.893 Gb</td></tr>\n",
       "<tr><td>H2O_cluster_total_cores:</td>\n",
       "<td>8</td></tr>\n",
       "<tr><td>H2O_cluster_allowed_cores:</td>\n",
       "<td>8</td></tr>\n",
       "<tr><td>H2O_cluster_status:</td>\n",
       "<td>locked, healthy</td></tr>\n",
       "<tr><td>H2O_connection_url:</td>\n",
       "<td>http://localhost:54321</td></tr>\n",
       "<tr><td>H2O_connection_proxy:</td>\n",
       "<td>{\"http\": null, \"https\": null}</td></tr>\n",
       "<tr><td>H2O_internal_security:</td>\n",
       "<td>False</td></tr>\n",
       "<tr><td>Python_version:</td>\n",
       "<td>3.10.10 final</td></tr></tbody>\n",
       "  </table>\n",
       "</div>\n"
      ],
      "text/plain": [
       "--------------------------  -----------------------------\n",
       "H2O_cluster_uptime:         3 hours 4 mins\n",
       "H2O_cluster_timezone:       Europe/Rome\n",
       "H2O_data_parsing_timezone:  UTC\n",
       "H2O_cluster_version:        3.40.0.4\n",
       "H2O_cluster_version_age:    23 days\n",
       "H2O_cluster_name:           H2O_from_python_hamed_iuypww\n",
       "H2O_cluster_total_nodes:    1\n",
       "H2O_cluster_free_memory:    1.893 Gb\n",
       "H2O_cluster_total_cores:    8\n",
       "H2O_cluster_allowed_cores:  8\n",
       "H2O_cluster_status:         locked, healthy\n",
       "H2O_connection_url:         http://localhost:54321\n",
       "H2O_connection_proxy:       {\"http\": null, \"https\": null}\n",
       "H2O_internal_security:      False\n",
       "Python_version:             3.10.10 final\n",
       "--------------------------  -----------------------------"
      ]
     },
     "metadata": {},
     "output_type": "display_data"
    }
   ],
   "source": [
    "import requests\n",
    "import pandas as pd\n",
    "import h2o\n",
    "h2o.init()"
   ]
  },
  {
   "cell_type": "code",
   "execution_count": 276,
   "id": "e3424ae7",
   "metadata": {},
   "outputs": [],
   "source": [
    "json=[{\n",
    "    'C1':0.76,\n",
    "    'C2':2,\n",
    "    'C3': 1,\n",
    "    'C4':1,\n",
    "    'C5' :1,\n",
    "    'C6' :1,\n",
    "    'C7' :1,\n",
    "    'C8' :1,\n",
    "    'C9' :1,\n",
    "    'C10' :1,\n",
    "    'C11' :1,\n",
    "    'C12' :1,\n",
    "    'C13' :1,\n",
    "    'C14' :1,\n",
    "}]"
   ]
  },
  {
   "cell_type": "code",
   "execution_count": 304,
   "id": "09c41d53",
   "metadata": {},
   "outputs": [
    {
     "data": {
      "text/plain": [
       "[{'C1': 0.76,\n",
       "  'C2': 2.0,\n",
       "  'C3': 1.0,\n",
       "  'C4': 1.0,\n",
       "  'C5': 1.0,\n",
       "  'C6': 1.0,\n",
       "  'C7': 1.0,\n",
       "  'C8': 1.0,\n",
       "  'C9': 1.0,\n",
       "  'C10': 1.0,\n",
       "  'C11': 1.0,\n",
       "  'C12': 1.0,\n",
       "  'C13': 1.0,\n",
       "  'C14': 1.0}]"
      ]
     },
     "execution_count": 304,
     "metadata": {},
     "output_type": "execute_result"
    }
   ],
   "source": [
    "url = 'http://127.0.0.1:8000/predict/'\n",
    "res = requests.post(url,json=json)\n",
    "y_pred = res.json()\n",
    "y_pred"
   ]
  },
  {
   "cell_type": "code",
   "execution_count": 310,
   "id": "7290df25",
   "metadata": {},
   "outputs": [
    {
     "data": {
      "text/plain": [
       "[{'C1': 0.76,\n",
       "  'C2': 2.0,\n",
       "  'C3': 1.0,\n",
       "  'C4': 1.0,\n",
       "  'C5': 1.0,\n",
       "  'C6': 1.0,\n",
       "  'C7': 1.0,\n",
       "  'C8': 1.0,\n",
       "  'C9': 1.0,\n",
       "  'C10': 1.0,\n",
       "  'C11': 1.0,\n",
       "  'C12': 1.0,\n",
       "  'C13': 1.0,\n",
       "  'C14': 1.0}]"
      ]
     },
     "execution_count": 310,
     "metadata": {},
     "output_type": "execute_result"
    }
   ],
   "source": [
    "y_pred"
   ]
  },
  {
   "cell_type": "code",
   "execution_count": 309,
   "id": "3eab936d",
   "metadata": {},
   "outputs": [
    {
     "ename": "TypeError",
     "evalue": "'builtin_function_or_method' object is not iterable",
     "output_type": "error",
     "traceback": [
      "\u001b[0;31m---------------------------------------------------------------------------\u001b[0m",
      "\u001b[0;31mTypeError\u001b[0m                                 Traceback (most recent call last)",
      "Cell \u001b[0;32mIn[309], line 1\u001b[0m\n\u001b[0;32m----> 1\u001b[0m na\u001b[39m=\u001b[39mh2o\u001b[39m.\u001b[39;49mH2OFrame(na)\n",
      "File \u001b[0;32m~/miniconda3/envs/tensorflow/lib/python3.10/site-packages/h2o/frame.py:113\u001b[0m, in \u001b[0;36mH2OFrame.__init__\u001b[0;34m(self, python_obj, destination_frame, header, separator, column_names, column_types, na_strings, skipped_columns)\u001b[0m\n\u001b[1;32m    111\u001b[0m \u001b[39mself\u001b[39m\u001b[39m.\u001b[39m_is_frame \u001b[39m=\u001b[39m \u001b[39mTrue\u001b[39;00m  \u001b[39m# Indicate that this is an actual frame, allowing typechecks to be made\u001b[39;00m\n\u001b[1;32m    112\u001b[0m \u001b[39mif\u001b[39;00m python_obj \u001b[39mis\u001b[39;00m \u001b[39mnot\u001b[39;00m \u001b[39mNone\u001b[39;00m:\n\u001b[0;32m--> 113\u001b[0m     \u001b[39mself\u001b[39;49m\u001b[39m.\u001b[39;49m_upload_python_object(python_obj, destination_frame, header, separator,\n\u001b[1;32m    114\u001b[0m                                column_names, column_types, na_strings, skipped_columns)\n",
      "File \u001b[0;32m~/miniconda3/envs/tensorflow/lib/python3.10/site-packages/h2o/frame.py:136\u001b[0m, in \u001b[0;36mH2OFrame._upload_python_object\u001b[0;34m(self, python_obj, destination_frame, header, separator, column_names, column_types, na_strings, skipped_columns)\u001b[0m\n\u001b[1;32m    131\u001b[0m \u001b[39m# TODO: all these _handlers should really belong to this class, not to shared_utils.\u001b[39;00m\n\u001b[1;32m    132\u001b[0m processor \u001b[39m=\u001b[39m (_handle_pandas_data_frame \u001b[39mif\u001b[39;00m is_type(python_obj, pandas_dataframe) \u001b[39melse\u001b[39;00m\n\u001b[1;32m    133\u001b[0m              _handle_numpy_array \u001b[39mif\u001b[39;00m is_type(python_obj, numpy_ndarray) \u001b[39melse\u001b[39;00m\n\u001b[1;32m    134\u001b[0m              _handle_python_dicts \u001b[39mif\u001b[39;00m is_type(python_obj, \u001b[39mdict\u001b[39m) \u001b[39melse\u001b[39;00m\n\u001b[1;32m    135\u001b[0m              _handle_python_lists)\n\u001b[0;32m--> 136\u001b[0m col_header, data_to_write \u001b[39m=\u001b[39m processor(python_obj, header)\n\u001b[1;32m    137\u001b[0m \u001b[39mif\u001b[39;00m col_header \u001b[39mis\u001b[39;00m \u001b[39mNone\u001b[39;00m \u001b[39mor\u001b[39;00m data_to_write \u001b[39mis\u001b[39;00m \u001b[39mNone\u001b[39;00m:\n\u001b[1;32m    138\u001b[0m     \u001b[39mraise\u001b[39;00m H2OValueError(\u001b[39m\"\u001b[39m\u001b[39mNo data to write\u001b[39m\u001b[39m\"\u001b[39m)\n",
      "File \u001b[0;32m~/miniconda3/envs/tensorflow/lib/python3.10/site-packages/h2o/utils/shared_utils.py:252\u001b[0m, in \u001b[0;36m_handle_numpy_array\u001b[0;34m(python_obj, header)\u001b[0m\n\u001b[1;32m    251\u001b[0m \u001b[39mdef\u001b[39;00m \u001b[39m_handle_numpy_array\u001b[39m(python_obj, header):\n\u001b[0;32m--> 252\u001b[0m     \u001b[39mreturn\u001b[39;00m _handle_python_lists(python_obj\u001b[39m.\u001b[39;49mtolist(), header)\n",
      "File \u001b[0;32m~/miniconda3/envs/tensorflow/lib/python3.10/site-packages/h2o/utils/shared_utils.py:186\u001b[0m, in \u001b[0;36m_handle_python_lists\u001b[0;34m(python_obj, check_header)\u001b[0m\n\u001b[1;32m    184\u001b[0m \u001b[39mdef\u001b[39;00m \u001b[39m_handle_python_lists\u001b[39m(python_obj, check_header):\n\u001b[1;32m    185\u001b[0m     \u001b[39m# convert all inputs to lol\u001b[39;00m\n\u001b[0;32m--> 186\u001b[0m     \u001b[39mif\u001b[39;00m _is_list_of_lists(python_obj):  \u001b[39m# do we have a list of lists: [[...], ..., [...]] ?\u001b[39;00m\n\u001b[1;32m    187\u001b[0m         ncols \u001b[39m=\u001b[39m _check_lists_of_lists(python_obj)  \u001b[39m# must be a list of flat lists, raise ValueError if not\u001b[39;00m\n\u001b[1;32m    188\u001b[0m     \u001b[39melif\u001b[39;00m \u001b[39misinstance\u001b[39m(python_obj, (\u001b[39mlist\u001b[39m, \u001b[39mtuple\u001b[39m)):  \u001b[39m# single list\u001b[39;00m\n",
      "File \u001b[0;32m~/miniconda3/envs/tensorflow/lib/python3.10/site-packages/h2o/utils/shared_utils.py:248\u001b[0m, in \u001b[0;36m_is_list_of_lists\u001b[0;34m(o)\u001b[0m\n\u001b[1;32m    247\u001b[0m \u001b[39mdef\u001b[39;00m \u001b[39m_is_list_of_lists\u001b[39m(o):\n\u001b[0;32m--> 248\u001b[0m     \u001b[39mreturn\u001b[39;00m \u001b[39many\u001b[39m(\u001b[39misinstance\u001b[39m(l, (\u001b[39mtuple\u001b[39m, \u001b[39mlist\u001b[39m)) \u001b[39mfor\u001b[39;00m l \u001b[39min\u001b[39;00m o)\n",
      "\u001b[0;31mTypeError\u001b[0m: 'builtin_function_or_method' object is not iterable"
     ]
    }
   ],
   "source": [
    "na=h2o.H2OFrame(na)"
   ]
  },
  {
   "cell_type": "code",
   "execution_count": 268,
   "id": "f4b7a911",
   "metadata": {},
   "outputs": [
    {
     "data": {
      "text/plain": [
       "{}"
      ]
     },
     "execution_count": 268,
     "metadata": {},
     "output_type": "execute_result"
    }
   ],
   "source": [
    "new_dict"
   ]
  },
  {
   "cell_type": "code",
   "execution_count": null,
   "id": "4630b6fa",
   "metadata": {},
   "outputs": [],
   "source": []
  }
 ],
 "metadata": {
  "kernelspec": {
   "display_name": "Python 3 (ipykernel)",
   "language": "python",
   "name": "python3"
  },
  "language_info": {
   "codemirror_mode": {
    "name": "ipython",
    "version": 3
   },
   "file_extension": ".py",
   "mimetype": "text/x-python",
   "name": "python",
   "nbconvert_exporter": "python",
   "pygments_lexer": "ipython3",
   "version": "3.10.10"
  }
 },
 "nbformat": 4,
 "nbformat_minor": 5
}
